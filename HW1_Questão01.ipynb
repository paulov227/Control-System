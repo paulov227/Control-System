{
  "nbformat": 4,
  "nbformat_minor": 0,
  "metadata": {
    "colab": {
      "provenance": [],
      "authorship_tag": "ABX9TyMToieLKSsSUyL2TxMjZNFM",
      "include_colab_link": true
    },
    "kernelspec": {
      "name": "python3",
      "display_name": "Python 3"
    },
    "language_info": {
      "name": "python"
    }
  },
  "cells": [
    {
      "cell_type": "markdown",
      "metadata": {
        "id": "view-in-github",
        "colab_type": "text"
      },
      "source": [
        "<a href=\"https://colab.research.google.com/github/paulov227/Control-System/blob/main/HW1_Quest%C3%A3o01.ipynb\" target=\"_parent\"><img src=\"https://colab.research.google.com/assets/colab-badge.svg\" alt=\"Open In Colab\"/></a>"
      ]
    },
    {
      "cell_type": "markdown",
      "source": [
        "## **Item a)**"
      ],
      "metadata": {
        "id": "R3eIJrUfKst8"
      }
    },
    {
      "cell_type": "code",
      "execution_count": null,
      "metadata": {
        "colab": {
          "base_uri": "https://localhost:8080/"
        },
        "id": "h7L0tvadxBvU",
        "outputId": "fce65a50-6cb5-43aa-8cf1-85cd09bb3d17"
      },
      "outputs": [
        {
          "output_type": "stream",
          "name": "stdout",
          "text": [
            "Transformada inversa de Laplace: 3*DiracDelta(t) - 5*exp(-t)*Heaviside(t)/2 + 10*exp(-2*t)*Heaviside(t) - 15*exp(-3*t)*Heaviside(t)/2\n"
          ]
        }
      ],
      "source": [
        "\n",
        "from sympy import symbols, inverse_laplace_transform\n",
        "\n",
        "# Define simbols and functions in Laplace's domain\n",
        "s, t = symbols('s t')\n",
        "F_s_1 = 3 * s**2 + 5 * s / (s**3 + 6 * s**2 + 11 * s + 6)\n",
        "\n",
        "# Calculate the inverse Laplace transform\n",
        "f_t = inverse_laplace_transform(F_s_1, s, t)\n",
        "\n",
        "# Print the result\n",
        "print(\"Transformada inversa de Laplace:\", f_t)\n",
        "\n"
      ]
    },
    {
      "cell_type": "markdown",
      "source": [
        "## **Item b)**"
      ],
      "metadata": {
        "id": "-RNuyG_tKrOM"
      }
    },
    {
      "cell_type": "code",
      "source": [
        "from sympy import symbols, inverse_laplace_transform\n",
        "\n",
        "# Define simbols and functions in Laplace's domain\n",
        "s, t = symbols('s t')\n",
        "F_s_2 = s**2 + 2 * s + 1 / (s + 2)**3\n",
        "\n",
        "# Calculate the inverse Laplace transform\n",
        "f_t = inverse_laplace_transform(F_s_2, s, t)\n",
        "\n",
        "# Print the result\n",
        "print(\"Transformada inversa de Laplace:\", f_t)"
      ],
      "metadata": {
        "colab": {
          "base_uri": "https://localhost:8080/"
        },
        "id": "na69GQUZLCPM",
        "outputId": "2b67283b-7374-462a-90ea-f9cca7790290"
      },
      "execution_count": null,
      "outputs": [
        {
          "output_type": "stream",
          "name": "stdout",
          "text": [
            "Transformada inversa de Laplace: t**2*exp(-2*t)*Heaviside(t)/2 + 3*DiracDelta(t)\n"
          ]
        }
      ]
    },
    {
      "cell_type": "markdown",
      "source": [
        "## **Item c)**"
      ],
      "metadata": {
        "id": "51YMoCAYNWl8"
      }
    },
    {
      "cell_type": "code",
      "source": [
        "from sympy import symbols, inverse_laplace_transform\n",
        "\n",
        "# Define simbols and functions in Laplace's domain\n",
        "s, t = symbols('s t')\n",
        "F_s_3 = s * 2 + 3 / (s**3 + 6 * s**2 + 21 * s + 26)\n",
        "\n",
        "# Calculate the inverse Laplace transform\n",
        "f_t = inverse_laplace_transform(F_s_3, s, t)\n",
        "\n",
        "# Print the result\n",
        "print(\"Transformada inversa de Laplace:\", f_t)"
      ],
      "metadata": {
        "colab": {
          "base_uri": "https://localhost:8080/"
        },
        "outputId": "2aa1e4be-83f6-4c70-dc60-848ccc1f28b4",
        "id": "XP9MUECJNaKZ"
      },
      "execution_count": 15,
      "outputs": [
        {
          "output_type": "stream",
          "name": "stdout",
          "text": [
            "Transformada inversa de Laplace: 2*DiracDelta(t) - exp(-2*t)*cos(3*t)*Heaviside(t)/3 + exp(-2*t)*Heaviside(t)/3\n"
          ]
        }
      ]
    },
    {
      "cell_type": "markdown",
      "source": [
        "## **Item d)**"
      ],
      "metadata": {
        "id": "YmiKY_R6OPeV"
      }
    },
    {
      "cell_type": "code",
      "source": [
        "from sympy import symbols, exp, inverse_laplace_transform\n",
        "\n",
        "# Define simbols and functions in Laplace's domain\n",
        "s, t = symbols('s t')\n",
        "F_s_4 = 1 + 2 * exp(-1 * s) / (s**2 + 3 * s + 2)\n",
        "\n",
        "# Calculate the inverse Laplace transform\n",
        "f_t = inverse_laplace_transform(F_s_4, s, t)\n",
        "\n",
        "# Print the result\n",
        "print(\"Transformada inversa de Laplace:\", f_t)"
      ],
      "metadata": {
        "colab": {
          "base_uri": "https://localhost:8080/"
        },
        "id": "KWBjnmmpOSWk",
        "outputId": "4afa12dd-528a-48ec-f784-166cb44c8a4a"
      },
      "execution_count": null,
      "outputs": [
        {
          "output_type": "stream",
          "name": "stdout",
          "text": [
            "Transformada inversa de Laplace: 2*(exp(t) - E)*exp(1 - 2*t)*Heaviside(t - 1) + DiracDelta(t)\n"
          ]
        }
      ]
    }
  ]
}